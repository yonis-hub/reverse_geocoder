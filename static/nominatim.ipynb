{
 "cells": [
  {
   "cell_type": "code",
   "execution_count": 1,
   "metadata": {},
   "outputs": [],
   "source": [
    "import os\n",
    "import csv \n",
    "import json\n",
    "import time\n",
    "from numpy.lib.npyio import loadtxt\n",
    "import requests\n",
    "import pandas as pd\n"
   ]
  },
  {
   "cell_type": "code",
   "execution_count": 2,
   "metadata": {},
   "outputs": [
    {
     "name": "stdout",
     "output_type": "stream",
     "text": [
      "         name        lat        lng\n",
      "0  1000001021 -28.729250 -54.907583\n",
      "1  1000001030 -29.687139 -49.980056\n",
      "2  1000001110 -16.760139 -43.050333\n",
      "3  1000001366 -27.821639 -54.665639\n",
      "4  1000001463 -17.722361 -48.157056\n",
      "5  1000001480  -9.952167 -54.909972\n",
      "6  1000001919 -22.735278 -42.806667\n",
      "7  1000001986 -23.482978 -46.644889\n",
      "8  1000001994 -25.022031 -50.580750\n"
     ]
    }
   ],
   "source": [
    "#load cvs into pandas df\n",
    "sites_pd = pd.read_csv(\"../Resources/test1.csv\")\n",
    "# print(sites_pd)\n",
    "\n",
    "#clean the table\n",
    "clean_sites_pd = sites_pd.drop(['named: 3'], axis=1)\n",
    "print(clean_sites_pd)\n"
   ]
  },
  {
   "cell_type": "code",
   "execution_count": 9,
   "metadata": {},
   "outputs": [
    {
     "name": "stdout",
     "output_type": "stream",
     "text": [
      "HTTP GET request to URL: https://nominatim.openstreetmap.org/reverse?format=geocodejson&lat=-28.72925&lon=-54.907582999999995 | Status code: 200\n",
      "HTTP GET request to URL: https://nominatim.openstreetmap.org/reverse?format=geocodejson&lat=-29.687139000000002&lon=-49.980056 | Status code: 200\n",
      "HTTP GET request to URL: https://nominatim.openstreetmap.org/reverse?format=geocodejson&lat=-16.760139000000002&lon=-43.050333 | Status code: 200\n",
      "HTTP GET request to URL: https://nominatim.openstreetmap.org/reverse?format=geocodejson&lat=-27.821639&lon=-54.665639 | Status code: 200\n",
      "HTTP GET request to URL: https://nominatim.openstreetmap.org/reverse?format=geocodejson&lat=-17.722361&lon=-48.157056 | Status code: 200\n",
      "HTTP GET request to URL: https://nominatim.openstreetmap.org/reverse?format=geocodejson&lat=-9.9521667&lon=-54.909971999999996 | Status code: 200\n",
      "HTTP GET request to URL: https://nominatim.openstreetmap.org/reverse?format=geocodejson&lat=-22.735278&lon=-42.806667 | Status code: 200\n",
      "HTTP GET request to URL: https://nominatim.openstreetmap.org/reverse?format=geocodejson&lat=-23.482978&lon=-46.644889 | Status code: 200\n",
      "HTTP GET request to URL: https://nominatim.openstreetmap.org/reverse?format=geocodejson&lat=-25.022031&lon=-50.58075 | Status code: 200\n"
     ]
    }
   ],
   "source": [
    "#reverse geocoder\n",
    "class ReverseGeocoder:\n",
    "    #base url\n",
    "    base_url = 'https://nominatim.openstreetmap.org/reverse'\n",
    "\n",
    "    #store results\n",
    "    state_names = []\n",
    "    # latx = []\n",
    "    # lngy = []\n",
    "\n",
    "    def fetch(self, lat, lon):\n",
    "        #headers user-agent of the browser\n",
    "        headers = {\n",
    "            'user-agent' : 'Mozilla/5.0 (Macintosh; Intel Mac OS X 10_15_7) AppleWebKit/537.36 (KHTML, like Gecko) Chrome/90.0.4430.93 Safari/537.36'\n",
    "        }\n",
    "\n",
    "        #parameters\n",
    "        params = {\n",
    "            'format' : 'geocodejson',\n",
    "            'lat' : lat,\n",
    "            'lon' : lon\n",
    "        }\n",
    "\n",
    "        #HTTP GET request \n",
    "        res = requests.get(url=self.base_url, params=params, headers=headers)\n",
    "        print('HTTP GET request to URL: %s | Status code: %s' % (res.url, res.status_code))\n",
    "\n",
    "        if res.status_code == 200:\n",
    "            return res\n",
    "        else:\n",
    "            return None\n",
    "\n",
    "    def parse(self, res, lat, lon):\n",
    "        data = res['features'][0]['properties']['geocoding']['admin']['level4']\n",
    "        data ['lat'] = lat\n",
    "        data ['lon'] = lon\n",
    "        self.state_names.append(data)\n",
    "            print(data)\n",
    "\n",
    "    \n",
    "    #save the results\n",
    "    def store_results(self):\n",
    "        #state_names.to_csv(\"test.csv\", encoding=\"utf-8\", index=False, header=True)\n",
    "        pass\n",
    "\n",
    "       \n",
    "       \n",
    "    def run(self):\n",
    "       \n",
    "        for index, row in clean_sites_pd.iterrows():\n",
    "\n",
    "            try:\n",
    "                # extract lat and lon\n",
    "                lat = row['lat']\n",
    "                lon = row['lng']\n",
    "                # print(lat)\n",
    "                # print(\"-------------------\")\n",
    "                # print(lon)\n",
    "                #make HTTP resquest to Nominatim API\n",
    "                res = self.fetch(lat, lon)\n",
    "                self.parse(res.json(),lat, lon)\n",
    "\n",
    "                #time out\n",
    "                time.sleep(1)\n",
    "\n",
    "            except:\n",
    "                pass\n",
    "            #store results\n",
    "            self.store_results()\n",
    "        \n",
    "#main driver \n",
    "if __name__ == '__main__':\n",
    "    reverse_geocoder = ReverseGeocoder()\n",
    "    reverse_geocoder.run()\n",
    "    \n"
   ]
  },
  {
   "cell_type": "code",
   "execution_count": 10,
   "metadata": {},
   "outputs": [
    {
     "ename": "NameError",
     "evalue": "name 'state_names' is not defined",
     "output_type": "error",
     "traceback": [
      "\u001b[0;31m---------------------------------------------------------------------------\u001b[0m",
      "\u001b[0;31mNameError\u001b[0m                                 Traceback (most recent call last)",
      "\u001b[0;32m<ipython-input-10-4f94aaa7e0a5>\u001b[0m in \u001b[0;36m<module>\u001b[0;34m\u001b[0m\n\u001b[0;32m----> 1\u001b[0;31m \u001b[0mprint\u001b[0m\u001b[0;34m(\u001b[0m\u001b[0mstate_names\u001b[0m\u001b[0;34m)\u001b[0m\u001b[0;34m\u001b[0m\u001b[0;34m\u001b[0m\u001b[0m\n\u001b[0m",
      "\u001b[0;31mNameError\u001b[0m: name 'state_names' is not defined"
     ]
    }
   ],
   "source": []
  },
  {
   "cell_type": "code",
   "execution_count": null,
   "metadata": {},
   "outputs": [],
   "source": []
  },
  {
   "cell_type": "code",
   "execution_count": null,
   "metadata": {},
   "outputs": [],
   "source": []
  },
  {
   "cell_type": "code",
   "execution_count": null,
   "metadata": {},
   "outputs": [],
   "source": []
  },
  {
   "cell_type": "code",
   "execution_count": null,
   "metadata": {},
   "outputs": [],
   "source": []
  },
  {
   "cell_type": "code",
   "execution_count": null,
   "metadata": {},
   "outputs": [],
   "source": [
    "  ### def parse(self, res, lat, lon): notes <<<<<<<<<<\n",
    "        # get the data\n",
    "        # self.latx.append(res['features'][0]['geometry']['coordinates'][1])\n",
    "        # self.lngy.append(res['features'][0]['geometry']['coordinates'][0])\n",
    "        # self.state_names.append(res['features'][0]['properties']['geocoding']['admin']['level4'])\n",
    "       \n",
    "        # print(json.dumps(latx, indent=2))\n",
    "        # print(json.dumps(lngy, indent=2))\n",
    "        # print(json.dumps(state_names, indent=2))\n",
    "\n",
    "        # df = pd.DataFrame({'State Name': self.state_name, 'lat': self.latx, 'lon': self.lngy})\n",
    "        # print(df)\n",
    "\n",
    "        #combine state names with lat n lon\n",
    "        # frames = [clean_sites_pd,df]\n",
    "        # combine = pd.concat(frames)\n",
    "        # print(combine)\n",
    "        # print(clean_sites_pd)\n",
    "        # print(df)"
   ]
  }
 ],
 "metadata": {
  "kernelspec": {
   "display_name": "Python 3",
   "language": "python",
   "name": "python3"
  },
  "language_info": {
   "codemirror_mode": {
    "name": "ipython",
    "version": 3
   },
   "file_extension": ".py",
   "mimetype": "text/x-python",
   "name": "python",
   "nbconvert_exporter": "python",
   "pygments_lexer": "ipython3",
   "version": "3.6.10"
  }
 },
 "nbformat": 4,
 "nbformat_minor": 4
}
